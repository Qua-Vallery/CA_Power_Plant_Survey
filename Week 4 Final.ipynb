{
 "cells": [
  {
   "cell_type": "code",
   "execution_count": 71,
   "id": "3f2a393e",
   "metadata": {
    "tags": [
     "hide_input"
    ]
   },
   "outputs": [
    {
     "data": {
      "application/vnd.jupyter.widget-view+json": {
       "model_id": "2c292b4fb6d74a6294ac550897a3150a",
       "version_major": 2,
       "version_minor": 0
      },
      "text/plain": [
       "Text(value='dahsd', description='Prolific ID:', layout=Layout(width='50%'), placeholder='Enter your Prolific I…"
      ]
     },
     "metadata": {},
     "output_type": "display_data"
    },
    {
     "data": {
      "application/vnd.jupyter.widget-view+json": {
       "model_id": "584d3f8fd6ad41539471fa3af31d6fb7",
       "version_major": 2,
       "version_minor": 0
      },
      "text/plain": [
       "RadioButtons(description='Top Plant:', index=2, layout=Layout(width='400px'), options=('Castaic (Pumped Storag…"
      ]
     },
     "metadata": {},
     "output_type": "display_data"
    },
    {
     "data": {
      "application/vnd.jupyter.widget-view+json": {
       "model_id": "128dda27f36345669d850cc526684640",
       "version_major": 2,
       "version_minor": 0
      },
      "text/plain": [
       "RadioButtons(description='Capacity:', index=1, layout=Layout(width='300px'), options=('1200', '5664', '1800', …"
      ]
     },
     "metadata": {},
     "output_type": "display_data"
    },
    {
     "data": {
      "application/vnd.jupyter.widget-view+json": {
       "model_id": "720697bee1a445388e1cb7cc4d1d3484",
       "version_major": 2,
       "version_minor": 0
      },
      "text/plain": [
       "Text(value='2', description='Answer:')"
      ]
     },
     "metadata": {},
     "output_type": "display_data"
    },
    {
     "data": {
      "application/vnd.jupyter.widget-view+json": {
       "model_id": "bf14af4963fe4b64b175f7d8929af320",
       "version_major": 2,
       "version_minor": 0
      },
      "text/plain": [
       "BoundedFloatText(value=5.0, description='% in LA:', step=0.1, style=DescriptionStyle(description_width='initia…"
      ]
     },
     "metadata": {},
     "output_type": "display_data"
    },
    {
     "data": {
      "application/vnd.jupyter.widget-view+json": {
       "model_id": "cd68685a373244ddaf008faddf682419",
       "version_major": 2,
       "version_minor": 0
      },
      "text/plain": [
       "BoundedFloatText(value=150.0, description='MW Difference:', max=10000.0, min=-10000.0, step=10.0, style=Descri…"
      ]
     },
     "metadata": {},
     "output_type": "display_data"
    },
    {
     "data": {
      "application/vnd.jupyter.widget-view+json": {
       "model_id": "26fbf2b300894f239f72c8e63ae7faa0",
       "version_major": 2,
       "version_minor": 0
      },
      "text/plain": [
       "Text(value='22', description='Answer:', placeholder='e.g. 12 hydro plants found across 5 counties')"
      ]
     },
     "metadata": {},
     "output_type": "display_data"
    },
    {
     "data": {
      "application/vnd.jupyter.widget-view+json": {
       "model_id": "24d25451c5484defaf0514c4b2fb988a",
       "version_major": 2,
       "version_minor": 0
      },
      "text/plain": [
       "Text(value='SCE', description='Answer:', placeholder='e.g. Calpine', style=TextStyle(description_width='initia…"
      ]
     },
     "metadata": {},
     "output_type": "display_data"
    },
    {
     "data": {
      "application/vnd.jupyter.widget-view+json": {
       "model_id": "0f3fa38a602c4ecb9159fe3710b6ee63",
       "version_major": 2,
       "version_minor": 0
      },
      "text/plain": [
       "RadioButtons(description='Your Answer:', index=1, layout=Layout(width='500px'), options=('OGW', 'SUN', 'OBG', …"
      ]
     },
     "metadata": {},
     "output_type": "display_data"
    },
    {
     "data": {
      "application/vnd.jupyter.widget-view+json": {
       "model_id": "f5b7046d41a54dde91669a0e3ad8c84a",
       "version_major": 2,
       "version_minor": 0
      },
      "text/plain": [
       "RadioButtons(description='Your Answer:', index=2, layout=Layout(width='500px'), options=('1 - Strongly Disagre…"
      ]
     },
     "metadata": {},
     "output_type": "display_data"
    }
   ],
   "source": [
    "#making widgets global\n",
    "\n",
    "import ipywidgets as widgets\n",
    "from IPython.display import display\n",
    "\n",
    "prolific_id = widgets.Text(description=\"Prolific ID\") #CORRECTED\n",
    "user_plant = widgets.RadioButtons(description=\"Top Plant:\") #CORRECTED\n",
    "user_capacity = widgets.RadioButtons(description=\"Capacity:\") #CORRECTED\n",
    "user_answer = widgets.Text(description=\"Solar Plants\") #COORECTED\n",
    "user_answer = widgets.BoundedFloatText(description=\"% LA\", min=0, max=100) #CORRECTED\n",
    "user_answer = widgets.FloatText(description=\"MW Difference\") #corrected\n",
    "user_answer = widgets.Text(description=\"Hydro in NorCal\") #CORRECTED\n",
    "user_answer = widgets.Text(description=\"Operator\") #not working for whatever reason\n",
    "user_answer = widgets.Text(description=\"Energy Source\") #CORRECTED\n",
    "user_answer = widgets.Text(description=\"Agreement\") #CORRECTED\n",
    "\n",
    "# Display them for debugging\n",
    "display(\n",
    "    prolific_id_input, plant_question, capacity_question, solar_input, percentage_input,difference_input, hydro_input, answer_input, source_input, likert_scale)#, operator_input  likert_scale"
   ]
  },
  {
   "cell_type": "markdown",
   "id": "3941aa55",
   "metadata": {},
   "source": [
    "<div style=\"background-color:#007acc; height:40px; margin-top:30px; margin-bottom:10px; border-radius:5px;\">\n",
    "  <h2 style=\"color:white; padding:8px 15px; margin:0;\">📊To start: Enter your Prolific ID.</h2>\n",
    "</div>\n"
   ]
  },
  {
   "cell_type": "code",
   "execution_count": 96,
   "id": "14a6297c",
   "metadata": {},
   "outputs": [
    {
     "data": {
      "application/vnd.jupyter.widget-view+json": {
       "model_id": "26fc220e7de34a1f99a97c995f5573d9",
       "version_major": 2,
       "version_minor": 0
      },
      "text/plain": [
       "Text(value='', description='Prolific ID:', layout=Layout(width='50%'), placeholder='Enter your Prolific ID', s…"
      ]
     },
     "metadata": {},
     "output_type": "display_data"
    },
    {
     "data": {
      "application/vnd.jupyter.widget-view+json": {
       "model_id": "c6515ce2abae403fb93bc26772588b29",
       "version_major": 2,
       "version_minor": 0
      },
      "text/plain": [
       "Button(description='Submit', style=ButtonStyle())"
      ]
     },
     "metadata": {},
     "output_type": "display_data"
    },
    {
     "data": {
      "application/vnd.jupyter.widget-view+json": {
       "model_id": "bed9d8c8379a42d3a8bd4fbaf559eaad",
       "version_major": 2,
       "version_minor": 0
      },
      "text/plain": [
       "Output()"
      ]
     },
     "metadata": {},
     "output_type": "display_data"
    }
   ],
   "source": [
    "import ipywidgets as widgets\n",
    "from IPython.display import display\n",
    "\n",
    "# Text input\n",
    "prolific_id_input = widgets.Text(\n",
    "    placeholder='Enter your Prolific ID',\n",
    "    description='Prolific ID:',\n",
    "    style={'description_width': 'initial'},\n",
    "    layout=widgets.Layout(width='50%')\n",
    ")\n",
    "\n",
    "# Submit button\n",
    "submit_button = widgets.Button(description=\"Submit\")\n",
    "output = widgets.Output()\n",
    "\n",
    "def on_submit_clicked(b):\n",
    "    with output:\n",
    "        output.clear_output()\n",
    "        prolific_id = prolific_id_input.value\n",
    "        print(f\"✅ Captured Prolific ID: {prolific_id}\")\n",
    "\n",
    "submit_button.on_click(on_submit_clicked)\n",
    "\n",
    "# Display the widget\n",
    "display(prolific_id_input, submit_button, output)\n"
   ]
  },
  {
   "cell_type": "markdown",
   "id": "31d2ddaa",
   "metadata": {},
   "source": [
    "<div style=\"background-color:#007acc; height:40px; margin-top:30px; margin-bottom:10px; border-radius:5px;\">\n",
    "  <h2 style=\"color:white; padding:8px 15px; margin:0;\">📊 1) What is the name of power plant with the highest generation capacity? What is its Generation Capacity?</h2>\n",
    "</div>\n"
   ]
  },
  {
   "cell_type": "code",
   "execution_count": 2,
   "id": "36465a49",
   "metadata": {
    "scrolled": true,
    "tags": [
     "hide_input"
    ]
   },
   "outputs": [
    {
     "data": {
      "text/html": [
       "\n",
       "<style>\n",
       "  #altair-viz-fbec4caba3ea487b90d0455ed0a1c814.vega-embed {\n",
       "    width: 100%;\n",
       "    display: flex;\n",
       "  }\n",
       "\n",
       "  #altair-viz-fbec4caba3ea487b90d0455ed0a1c814.vega-embed details,\n",
       "  #altair-viz-fbec4caba3ea487b90d0455ed0a1c814.vega-embed details summary {\n",
       "    position: relative;\n",
       "  }\n",
       "</style>\n",
       "<div id=\"altair-viz-fbec4caba3ea487b90d0455ed0a1c814\"></div>\n",
       "<script type=\"text/javascript\">\n",
       "  var VEGA_DEBUG = (typeof VEGA_DEBUG == \"undefined\") ? {} : VEGA_DEBUG;\n",
       "  (function(spec, embedOpt){\n",
       "    let outputDiv = document.currentScript.previousElementSibling;\n",
       "    if (outputDiv.id !== \"altair-viz-fbec4caba3ea487b90d0455ed0a1c814\") {\n",
       "      outputDiv = document.getElementById(\"altair-viz-fbec4caba3ea487b90d0455ed0a1c814\");\n",
       "    }\n",
       "\n",
       "    const paths = {\n",
       "      \"vega\": \"https://cdn.jsdelivr.net/npm/vega@5?noext\",\n",
       "      \"vega-lib\": \"https://cdn.jsdelivr.net/npm/vega-lib?noext\",\n",
       "      \"vega-lite\": \"https://cdn.jsdelivr.net/npm/vega-lite@5.20.1?noext\",\n",
       "      \"vega-embed\": \"https://cdn.jsdelivr.net/npm/vega-embed@6?noext\",\n",
       "    };\n",
       "\n",
       "    function maybeLoadScript(lib, version) {\n",
       "      var key = `${lib.replace(\"-\", \"\")}_version`;\n",
       "      return (VEGA_DEBUG[key] == version) ?\n",
       "        Promise.resolve(paths[lib]) :\n",
       "        new Promise(function(resolve, reject) {\n",
       "          var s = document.createElement('script');\n",
       "          document.getElementsByTagName(\"head\")[0].appendChild(s);\n",
       "          s.async = true;\n",
       "          s.onload = () => {\n",
       "            VEGA_DEBUG[key] = version;\n",
       "            return resolve(paths[lib]);\n",
       "          };\n",
       "          s.onerror = () => reject(`Error loading script: ${paths[lib]}`);\n",
       "          s.src = paths[lib];\n",
       "        });\n",
       "    }\n",
       "\n",
       "    function showError(err) {\n",
       "      outputDiv.innerHTML = `<div class=\"error\" style=\"color:red;\">${err}</div>`;\n",
       "      throw err;\n",
       "    }\n",
       "\n",
       "    function displayChart(vegaEmbed) {\n",
       "      vegaEmbed(outputDiv, spec, embedOpt)\n",
       "        .catch(err => showError(`Javascript Error: ${err.message}<br>This usually means there's a typo in your chart specification. See the javascript console for the full traceback.`));\n",
       "    }\n",
       "\n",
       "    if(typeof define === \"function\" && define.amd) {\n",
       "      requirejs.config({paths});\n",
       "      let deps = [\"vega-embed\"];\n",
       "      require(deps, displayChart, err => showError(`Error loading script: ${err.message}`));\n",
       "    } else {\n",
       "      maybeLoadScript(\"vega\", \"5\")\n",
       "        .then(() => maybeLoadScript(\"vega-lite\", \"5.20.1\"))\n",
       "        .then(() => maybeLoadScript(\"vega-embed\", \"6\"))\n",
       "        .catch(showError)\n",
       "        .then(() => displayChart(vegaEmbed));\n",
       "    }\n",
       "  })({\"config\": {\"view\": {\"continuousWidth\": 300, \"continuousHeight\": 300}}, \"data\": {\"name\": \"data-99214fae68604b0b75883679caadbb1a\"}, \"mark\": {\"type\": \"bar\"}, \"encoding\": {\"tooltip\": [{\"field\": \"PlantName\", \"type\": \"nominal\"}, {\"field\": \"Capacity_Latest\", \"type\": \"quantitative\"}, {\"field\": \"Operator Company\", \"type\": \"nominal\"}, {\"field\": \"County\", \"type\": \"nominal\"}, {\"field\": \"x\", \"type\": \"quantitative\"}, {\"field\": \"y\", \"type\": \"quantitative\"}], \"x\": {\"field\": \"Capacity_Latest\", \"title\": \"Capacity (MW)\", \"type\": \"quantitative\"}, \"y\": {\"field\": \"PlantName\", \"sort\": \"-x\", \"title\": \"Power Plant\", \"type\": \"nominal\"}}, \"height\": 600, \"title\": \"Top 20 Power Plants by Generation Capacity\", \"$schema\": \"https://vega.github.io/schema/vega-lite/v5.20.1.json\", \"datasets\": {\"data-99214fae68604b0b75883679caadbb1a\": [{\"OBJECTID\": 2667, \"CECPlantID\": \"W9999\", \"PlantName\": \"CAISO In-State Wind Generation\", \"Retired Plant\": 0, \"Operator Company\": \"Not Available\", \"County\": \"ALL\", \"Capacity_Latest\": 5664.0, \"Units\": \"CAISO Wind\", \"PriEnergySource\": \"WND\", \"StartDate\": \"9/15/2017 12:00:00 AM\", \"CEC_Jurisdictional\": 0.0, \"x\": -120.247577223, \"y\": 36.8462699840001}, {\"OBJECTID\": 3454, \"CECPlantID\": \"N0001\", \"PlantName\": \"Diablo Canyon\", \"Retired Plant\": 0, \"Operator Company\": \"Pacific Gas & Electric (PG&E)\", \"County\": \"San Luis Obispo\", \"Capacity_Latest\": 2323.0, \"Units\": \"Unit 201, Unit 202\", \"PriEnergySource\": \"NUC\", \"StartDate\": \"5/7/1985 12:00:00 AM\", \"CEC_Jurisdictional\": 0.0, \"x\": -120.855353559, \"y\": 35.2116648210001}, {\"OBJECTID\": 2827, \"CECPlantID\": \"N0002\", \"PlantName\": \"San Onofre Nuclear Generating Station -SONGS-Retired 7/15/13\", \"Retired Plant\": 1, \"Operator Company\": \"Southern California Edison (SCE)\", \"County\": \"San Diego\", \"Capacity_Latest\": 2254.0, \"Units\": \"2, 3\", \"PriEnergySource\": \"NUC\", \"StartDate\": \"1/1/1968 12:00:00 AM\", \"CEC_Jurisdictional\": 0.0, \"x\": -117.554836222, \"y\": 33.3689045020001}, {\"OBJECTID\": 3634, \"CECPlantID\": \"H0242\", \"PlantName\": \"Hoover Dam (NV)\", \"Retired Plant\": 0, \"Operator Company\": \"United States Bureau of Reclamation\", \"County\": \"Mohave\", \"Capacity_Latest\": 2080.0, \"Units\": \"154, 8902\", \"PriEnergySource\": \"WAT\", \"StartDate\": \"10/1/1936 12:00:00 AM\", \"CEC_Jurisdictional\": 0.0, \"x\": -114.73770371, \"y\": 36.0155523920001}, {\"OBJECTID\": 2249, \"CECPlantID\": \"G0450\", \"PlantName\": \"Pittsburg Generating Station (Retired 12/31/2016)\", \"Retired Plant\": 1, \"Operator Company\": \"NRG Delta LLC\", \"County\": \"Contra Costa\", \"Capacity_Latest\": 2022.0, \"Units\": \"PPP1, PPP2, PPP3, PPP4, PPP5, PPP6, PPP7\", \"PriEnergySource\": \"NG\", \"StartDate\": \"1/1/1954 12:00:00 AM\", \"CEC_Jurisdictional\": 0.0, \"x\": -121.894089991, \"y\": 38.039621019}, {\"OBJECTID\": 2536, \"CECPlantID\": \"C0023\", \"PlantName\": \"Intermountain Power Project (UT)\", \"Retired Plant\": 0, \"Operator Company\": \"Los Angeles Department of Water & Power (LADWP)\", \"County\": \"Millard\", \"Capacity_Latest\": 1800.0, \"Units\": \"Unit 1, Unit 2\", \"PriEnergySource\": \"BIT\", \"StartDate\": \"6/9/1986 12:00:00 AM\", \"CEC_Jurisdictional\": 0.0, \"x\": -112.579898511, \"y\": 39.5099460370001}, {\"OBJECTID\": 2916, \"CECPlantID\": \"G0249\", \"PlantName\": \"Haynes Generating Station\", \"Retired Plant\": 0, \"Operator Company\": \"Los Angeles Department of Water & Power (LADWP)\", \"County\": \"Los Angeles\", \"Capacity_Latest\": 1730.34, \"Units\": \"Unit #1, Unit #10, Unit #11, Unit #12, Unit #13, Unit #14, Unit #15, Unit #16, Unit #2, Unit #3, Unit #4, Unit #5, Unit #6, Unit #8, Unit #9\", \"PriEnergySource\": \"NG\", \"StartDate\": \"9/1/1962 12:00:00 AM\", \"CEC_Jurisdictional\": 0.0, \"x\": -118.099297325, \"y\": 33.764819082}, {\"OBJECTID\": 3503, \"CECPlantID\": \"C0024\", \"PlantName\": \"Mohave Generating Station (Nevada) - Retired December 2005\", \"Retired Plant\": 1, \"Operator Company\": \"Southern California Edison (SCE)\", \"County\": \"Clark\", \"Capacity_Latest\": 1636.2, \"Units\": \"Unit 1, Unit 2\", \"PriEnergySource\": \"SUB\", \"StartDate\": \"1/1/1971 12:00:00 AM\", \"CEC_Jurisdictional\": 0.0, \"x\": -114.595927061, \"y\": 35.1330114400001}, {\"OBJECTID\": 2990, \"CECPlantID\": \"G0421\", \"PlantName\": \"Ormond Beach Generating Station\", \"Retired Plant\": 0, \"Operator Company\": \"GenOn Holdings Inc.\", \"County\": \"Ventura\", \"Capacity_Latest\": 1612.8, \"Units\": \"UNIT 1, UNIT 2\", \"PriEnergySource\": \"NG\", \"StartDate\": \"8/3/1971 12:00:00 AM\", \"CEC_Jurisdictional\": 0.0, \"x\": -119.168804653, \"y\": 34.1301561880001}, {\"OBJECTID\": 2874, \"CECPlantID\": \"G0490\", \"PlantName\": \"Redondo Beach LLC_(AES)\", \"Retired Plant\": 1, \"Operator Company\": \"AES Redondo Beach LLC\", \"County\": \"Los Angeles\", \"Capacity_Latest\": 1354.77, \"Units\": \"5, 6, 7, 8\", \"PriEnergySource\": \"NG\", \"StartDate\": \"10/1/1954 12:00:00 AM\", \"CEC_Jurisdictional\": 0.0, \"x\": -118.394738461, \"y\": 33.849840187}, {\"OBJECTID\": 2704, \"CECPlantID\": \"G9787\", \"PlantName\": \"La Rosita (INTERGEN  Mexicali  Mexico)\", \"Retired Plant\": 0, \"Operator Company\": \"Energia Azteca X Sociedad Anonima de Capital Variable\", \"County\": \"Mexicali\", \"Capacity_Latest\": 1353.0, \"Units\": \"1, CTG-1C, EAX-STG, EBC-CTG_and_STG\", \"PriEnergySource\": \"NG\", \"StartDate\": \"7/20/2003 12:00:00 AM\", \"CEC_Jurisdictional\": 0.0, \"x\": -115.629544684, \"y\": 32.598243967}, {\"OBJECTID\": 3207, \"CECPlantID\": \"H0090\", \"PlantName\": \"Castaic (Pumped Storage)\", \"Retired Plant\": 0, \"Operator Company\": \"Los Angeles Department of Water & Power (LADWP)\", \"County\": \"Los Angeles\", \"Capacity_Latest\": 1331.0, \"Units\": \"Unit #1, Unit #2, Unit #3, Unit #4, Unit #5, Unit #6, Unit #7\", \"PriEnergySource\": \"WAT\", \"StartDate\": \"9/1/1973 12:00:00 AM\", \"CEC_Jurisdictional\": 0.0, \"x\": -118.656599817, \"y\": 34.5874314500001}, {\"OBJECTID\": 2003, \"CECPlantID\": \"H0229\", \"PlantName\": \"Helms (Pumped Storage)\", \"Retired Plant\": 0, \"Operator Company\": \"Pacific Gas & Electric (PG&E)\", \"County\": \"Fresno\", \"Capacity_Latest\": 1212.0, \"Units\": \"Unit 936, Unit 937, Unit 938\", \"PriEnergySource\": \"WAT\", \"StartDate\": \"6/30/1984 12:00:00 AM\", \"CEC_Jurisdictional\": 0.0, \"x\": -118.968287952, \"y\": 37.02934334}, {\"OBJECTID\": 3467, \"CECPlantID\": \"G0781\", \"PlantName\": \"La Paloma Generating\", \"Retired Plant\": 0, \"Operator Company\": \"La Paloma Generating Co LLC\", \"County\": \"Kern\", \"Capacity_Latest\": 1200.0, \"Units\": \"Gen-1, Gen-2, Gen-3, Gen-4\", \"PriEnergySource\": \"NG\", \"StartDate\": \"1/6/2003 12:00:00 AM\", \"CEC_Jurisdictional\": 1.0, \"x\": -119.592197855, \"y\": 35.2956286090001}, {\"OBJECTID\": 2914, \"CECPlantID\": \"G0011\", \"PlantName\": \"Alamitos\", \"Retired Plant\": 0, \"Operator Company\": \"AES Alamitos LLC\", \"County\": \"Los Angeles\", \"Capacity_Latest\": 1135.27, \"Units\": \"AL 1, AL 2, AL 3, AL 4, AL 5, AL 6, AL 7\", \"PriEnergySource\": \"NG\", \"StartDate\": \"9/1/1956 12:00:00 AM\", \"CEC_Jurisdictional\": 0.0, \"x\": -118.101142893, \"y\": 33.769289686}, {\"OBJECTID\": 3104, \"CECPlantID\": \"G0795\", \"PlantName\": \"Mountainview Generating Station\", \"Retired Plant\": 0, \"Operator Company\": \"Southern California Edison (SCE)\", \"County\": \"San Bernardino\", \"Capacity_Latest\": 1110.0, \"Units\": \"Unit 3, Unit 4\", \"PriEnergySource\": \"NG\", \"StartDate\": \"12/10/2005 12:00:00 AM\", \"CEC_Jurisdictional\": 1.0, \"x\": -117.241913263, \"y\": 34.081723154}, {\"OBJECTID\": 1949, \"CECPlantID\": \"G0372\", \"PlantName\": \"Moss Landing Power Plant\", \"Retired Plant\": 0, \"Operator Company\": \"Duke Energy Moss Landing & Oakland LLC\", \"County\": \"Monterey\", \"Capacity_Latest\": 1080.0, \"Units\": \"1-GT1, 1-GT2, 1-ST, 2-GT1, 2-GT2, 2-ST, 6, 7\", \"PriEnergySource\": \"NG\", \"StartDate\": \"7/1/2002 12:00:00 AM\", \"CEC_Jurisdictional\": 1.0, \"x\": -121.782698344, \"y\": 36.804715286}, {\"OBJECTID\": 3079, \"CECPlantID\": \"G0201\", \"PlantName\": \"Etiwanda Generating Station (Retired 6/1/2018)\", \"Retired Plant\": 1, \"Operator Company\": \"NRG Marsh Landing LLC\", \"County\": \"San Bernardino\", \"Capacity_Latest\": 1049.09, \"Units\": \"UNIT 1, UNIT 2, UNIT 3, UNIT 4, UNIT 5\", \"PriEnergySource\": \"NG\", \"StartDate\": \"7/10/1953 12:00:00 AM\", \"CEC_Jurisdictional\": 0.0, \"x\": -117.527171544, \"y\": 34.090994648}, {\"OBJECTID\": 2873, \"CECPlantID\": \"G0194\", \"PlantName\": \"El Segundo Power Station - Retired 12/31/2015\", \"Retired Plant\": 1, \"Operator Company\": \"El Segundo Power LLC\", \"County\": \"Los Angeles\", \"Capacity_Latest\": 1020.0, \"Units\": \"UNIT 1, UNIT 2, UNIT 3, UNIT 4\", \"PriEnergySource\": \"NG\", \"StartDate\": \"4/1/1956 12:00:00 AM\", \"CEC_Jurisdictional\": 0.0, \"x\": -118.424822509, \"y\": 33.9101385540001}, {\"OBJECTID\": 2770, \"CECPlantID\": \"G0196\", \"PlantName\": \"Encina Power Station (retired 12/11/2018)\", \"Retired Plant\": 1, \"Operator Company\": \"NRG Energy\", \"County\": \"San Diego\", \"Capacity_Latest\": 965.0, \"Units\": \"Encina 1, Encina 2, Encina 3, Encina 4, Encina 5, Encina GT\", \"PriEnergySource\": \"NG\", \"StartDate\": \"11/23/1954 12:00:00 AM\", \"CEC_Jurisdictional\": 0.0, \"x\": -117.338418038, \"y\": 33.1377661990001}]}}, {\"mode\": \"vega-lite\"});\n",
       "</script>"
      ],
      "text/plain": [
       "alt.Chart(...)"
      ]
     },
     "metadata": {},
     "output_type": "display_data"
    },
    {
     "data": {
      "application/vnd.jupyter.widget-view+json": {
       "model_id": "485a11a89d774be3b90049f2065e7f1f",
       "version_major": 2,
       "version_minor": 0
      },
      "text/plain": [
       "VBox(children=(HTML(value='<h4>📊 Questions: Based on the chart above...</h4>'), RadioButtons(description='Top …"
      ]
     },
     "metadata": {},
     "output_type": "display_data"
    }
   ],
   "source": [
    "import pandas as pd\n",
    "import altair as alt\n",
    "import ipywidgets as widgets\n",
    "import random\n",
    "import time\n",
    "from IPython.display import display, clear_output\n",
    "\n",
    "def start_capacity_quiz():\n",
    "    # Declare global widget variables so they're accessible later\n",
    "    global plant_question, capacity_question, correct_plant, correct_capacity, start_time\n",
    "\n",
    "    # Load and clean dataset\n",
    "    df = pd.read_csv(\"Power_Plant.csv\")\n",
    "    df['Capacity_Latest'] = pd.to_numeric(df['Capacity_Latest'], errors='coerce')\n",
    "    df = df.dropna(subset=['Capacity_Latest'])\n",
    "\n",
    "    # Get top 20 plants by capacity\n",
    "    top_capacity = df.sort_values(by='Capacity_Latest', ascending=False).head(20)\n",
    "\n",
    "    # Create Altair chart\n",
    "    chart = alt.Chart(top_capacity).mark_bar().encode(\n",
    "        x=alt.X('Capacity_Latest:Q', title='Capacity (MW)'),\n",
    "        y=alt.Y('PlantName:N', sort='-x', title='Power Plant'),\n",
    "        tooltip=['PlantName', 'Capacity_Latest', 'Operator Company', 'County', 'x', 'y']\n",
    "    ).properties(\n",
    "        title='Top 20 Power Plants by Generation Capacity',\n",
    "        height=600\n",
    "    )\n",
    "\n",
    "    display(chart)\n",
    "\n",
    "    # Correct answers\n",
    "    correct_plant = top_capacity.iloc[0]['PlantName']\n",
    "    correct_capacity = str(int(top_capacity.iloc[0]['Capacity_Latest']))\n",
    "\n",
    "    # Randomized options (5 each)\n",
    "    plant_pool = list(top_capacity['PlantName'].unique())\n",
    "    plant_choices = random.sample([p for p in plant_pool if p != correct_plant], 4) + [correct_plant]\n",
    "    random.shuffle(plant_choices)\n",
    "\n",
    "    capacity_pool = list(top_capacity['Capacity_Latest'].dropna().astype(int).astype(str).unique())\n",
    "    capacity_choices = random.sample([c for c in capacity_pool if c != correct_capacity], 4) + [correct_capacity]\n",
    "    random.shuffle(capacity_choices)\n",
    "\n",
    "    # Widgets now stored as global variables\n",
    "    plant_question = widgets.RadioButtons(\n",
    "        options=plant_choices,\n",
    "        description='Top Plant:',\n",
    "        layout=widgets.Layout(width='400px')\n",
    "    )\n",
    "\n",
    "    capacity_question = widgets.RadioButtons(\n",
    "        options=capacity_choices,\n",
    "        description='Capacity:',\n",
    "        layout=widgets.Layout(width='300px')\n",
    "    )\n",
    "\n",
    "    submit_button = widgets.Button(description=\"Submit Answer\")\n",
    "    submission_output = widgets.Output()\n",
    "\n",
    "    if 'capacity_quiz_responses' not in globals():\n",
    "        global capacity_quiz_responses\n",
    "        capacity_quiz_responses = []\n",
    "\n",
    "    start_time = time.time()\n",
    "\n",
    "    def on_submit(b):\n",
    "        elapsed = time.time() - start_time\n",
    "        user_plant = plant_question.value\n",
    "        user_capacity = capacity_question.value\n",
    "\n",
    "        capacity_quiz_responses.append({\n",
    "            'user_plant': user_plant,\n",
    "            'user_capacity': user_capacity,\n",
    "            'correct_plant': correct_plant,\n",
    "            'correct_capacity': correct_capacity,\n",
    "            'is_correct': (user_plant == correct_plant and user_capacity == correct_capacity),\n",
    "            'time_sec': round(elapsed, 2)\n",
    "        })\n",
    "\n",
    "        with submission_output:\n",
    "            clear_output()\n",
    "            display(widgets.HTML(\n",
    "                f\"<b>✅ Answer recorded.</b> Time taken: {round(elapsed, 2)} seconds.<br>\"\n",
    "                f\"You may proceed to the next task.\"\n",
    "            ))\n",
    "\n",
    "    submit_button.on_click(on_submit)\n",
    "\n",
    "    display(widgets.VBox([\n",
    "        widgets.HTML(\"<h4>📊 Questions: Based on the chart above...</h4>\"),\n",
    "        plant_question,\n",
    "        capacity_question,\n",
    "        submit_button,\n",
    "        submission_output\n",
    "    ]))\n",
    "start_capacity_quiz()"
   ]
  },
  {
   "cell_type": "markdown",
   "id": "77bf701b",
   "metadata": {},
   "source": [
    "<div style=\"background-color:#007acc; height:40px; margin-top:30px; margin-bottom:10px; border-radius:5px;\">\n",
    "  <h2 style=\"color:white; padding:8px 15px; margin:0;\">📊 2) How many solar plants are located in California?</h2>\n",
    "</div>\n"
   ]
  },
  {
   "cell_type": "code",
   "execution_count": 16,
   "id": "ff2fb30a",
   "metadata": {
    "tags": [
     "hide_input"
    ]
   },
   "outputs": [
    {
     "name": "stdout",
     "output_type": "stream",
     "text": [
      "☀️ Task: How many solar plants are located in CA?\n",
      "Use the dropdown to filter the chart, then submit your answer. The code for solar plants is SUN.\n"
     ]
    },
    {
     "data": {
      "application/vnd.jupyter.widget-view+json": {
       "model_id": "ebed87034a474c46afc5fe94a1cb86e9",
       "version_major": 2,
       "version_minor": 0
      },
      "text/plain": [
       "VBox(children=(Dropdown(description='Energy Source:', options=('AB', 'BAT', 'BIT', 'BLQ', 'DFO', 'GAS', 'GEO',…"
      ]
     },
     "metadata": {},
     "output_type": "display_data"
    }
   ],
   "source": [
    "def start_solar_task():\n",
    "    global energy_filter, response_box, solar_input\n",
    "    \n",
    "    df = pd.read_csv(\"Power_Plant.csv\")\n",
    "    df['Capacity_Latest'] = pd.to_numeric(df['Capacity_Latest'], errors='coerce')\n",
    "    df = df.dropna(subset=['Capacity_Latest'])\n",
    "\n",
    "    clear_output()\n",
    "    print(\"☀️ Task: How many solar plants are located in CA?\")\n",
    "    print(\"Use the dropdown to filter the chart, then submit your answer. The code for solar plants is SUN.\")\n",
    "\n",
    "    start_time = time.time()\n",
    "\n",
    "    energy_filter = widgets.Dropdown(\n",
    "        options=sorted(df['PriEnergySource'].dropna().unique()),\n",
    "        value='AB',\n",
    "        description='Energy Source:'\n",
    "    )\n",
    "\n",
    "    chart_output = widgets.Output()\n",
    "    submission_output = widgets.Output()\n",
    "    solar_input = widgets.Text(description='Answer:')  # ← global response box for this task\n",
    "\n",
    "    def update_chart(change=None):\n",
    "        with chart_output:\n",
    "            clear_output()\n",
    "            selected_fuel = energy_filter.value\n",
    "            filtered = df[df['PriEnergySource'] == selected_fuel]\n",
    "            count = len(filtered)\n",
    "\n",
    "            chart = alt.Chart(pd.DataFrame({'count': [count]})).mark_text(\n",
    "                align='center',\n",
    "                baseline='middle',\n",
    "                fontSize=60\n",
    "            ).encode(\n",
    "                text='count:Q'\n",
    "            ).properties(\n",
    "                width=200,\n",
    "                height=120,\n",
    "                title=f\"Total {selected_fuel.title()} Plants in CA\"\n",
    "            )\n",
    "            display(chart)\n",
    "\n",
    "    energy_filter.observe(update_chart, names='value')\n",
    "    update_chart()\n",
    "\n",
    "    submit_button = widgets.Button(description=\"Submit Answer\")\n",
    "\n",
    "    def on_submit(b):\n",
    "        elapsed = time.time() - start_time\n",
    "        responses.append({\n",
    "            'question': 'Q: How many solar plants are in CA?',\n",
    "            'user_answer': solar_input.value,\n",
    "            'correct_answer': str(len(df[df['PriEnergySource'] == 'SUN'])),\n",
    "            'selected_filter': energy_filter.value,\n",
    "            'time_sec': round(elapsed, 2)\n",
    "        })\n",
    "        with submission_output:\n",
    "            clear_output()\n",
    "            display(widgets.HTML(\n",
    "                f\"<b>✅ Answer recorded.</b> Time taken: {round(elapsed, 2)} seconds.<br>\"\n",
    "                f\"You may proceed to the next task.\"\n",
    "            ))\n",
    "\n",
    "    submit_button.on_click(on_submit)\n",
    "\n",
    "    display(widgets.VBox([\n",
    "        energy_filter,\n",
    "        chart_output,\n",
    "        solar_input,\n",
    "        submit_button,\n",
    "        submission_output\n",
    "    ]))\n",
    "\n",
    "\n",
    "# Launch the solar task\n",
    "start_solar_task()\n"
   ]
  },
  {
   "cell_type": "markdown",
   "id": "2dd69faf",
   "metadata": {},
   "source": [
    "<div style=\"background-color:#007acc; height:40px; margin-top:30px; margin-bottom:10px; border-radius:5px;\">\n",
    "  <h2 style=\"color:white; padding:8px 15px; margin:0;\">📊 3) What percentage of solar plants are in Los Angeles County?</h2>\n",
    "</div>\n"
   ]
  },
  {
   "cell_type": "code",
   "execution_count": 17,
   "id": "15f7bb1f",
   "metadata": {
    "tags": [
     "hide_input"
    ]
   },
   "outputs": [
    {
     "name": "stdout",
     "output_type": "stream",
     "text": [
      "☀️ Task: There are 925 total solar plants in California. What percentage of solar plants are located in Los Angeles County?\n"
     ]
    },
    {
     "data": {
      "text/html": [
       "\n",
       "<style>\n",
       "  #altair-viz-47d79743b91a4b768a1d52d5e441c649.vega-embed {\n",
       "    width: 100%;\n",
       "    display: flex;\n",
       "  }\n",
       "\n",
       "  #altair-viz-47d79743b91a4b768a1d52d5e441c649.vega-embed details,\n",
       "  #altair-viz-47d79743b91a4b768a1d52d5e441c649.vega-embed details summary {\n",
       "    position: relative;\n",
       "  }\n",
       "</style>\n",
       "<div id=\"altair-viz-47d79743b91a4b768a1d52d5e441c649\"></div>\n",
       "<script type=\"text/javascript\">\n",
       "  var VEGA_DEBUG = (typeof VEGA_DEBUG == \"undefined\") ? {} : VEGA_DEBUG;\n",
       "  (function(spec, embedOpt){\n",
       "    let outputDiv = document.currentScript.previousElementSibling;\n",
       "    if (outputDiv.id !== \"altair-viz-47d79743b91a4b768a1d52d5e441c649\") {\n",
       "      outputDiv = document.getElementById(\"altair-viz-47d79743b91a4b768a1d52d5e441c649\");\n",
       "    }\n",
       "\n",
       "    const paths = {\n",
       "      \"vega\": \"https://cdn.jsdelivr.net/npm/vega@5?noext\",\n",
       "      \"vega-lib\": \"https://cdn.jsdelivr.net/npm/vega-lib?noext\",\n",
       "      \"vega-lite\": \"https://cdn.jsdelivr.net/npm/vega-lite@5.20.1?noext\",\n",
       "      \"vega-embed\": \"https://cdn.jsdelivr.net/npm/vega-embed@6?noext\",\n",
       "    };\n",
       "\n",
       "    function maybeLoadScript(lib, version) {\n",
       "      var key = `${lib.replace(\"-\", \"\")}_version`;\n",
       "      return (VEGA_DEBUG[key] == version) ?\n",
       "        Promise.resolve(paths[lib]) :\n",
       "        new Promise(function(resolve, reject) {\n",
       "          var s = document.createElement('script');\n",
       "          document.getElementsByTagName(\"head\")[0].appendChild(s);\n",
       "          s.async = true;\n",
       "          s.onload = () => {\n",
       "            VEGA_DEBUG[key] = version;\n",
       "            return resolve(paths[lib]);\n",
       "          };\n",
       "          s.onerror = () => reject(`Error loading script: ${paths[lib]}`);\n",
       "          s.src = paths[lib];\n",
       "        });\n",
       "    }\n",
       "\n",
       "    function showError(err) {\n",
       "      outputDiv.innerHTML = `<div class=\"error\" style=\"color:red;\">${err}</div>`;\n",
       "      throw err;\n",
       "    }\n",
       "\n",
       "    function displayChart(vegaEmbed) {\n",
       "      vegaEmbed(outputDiv, spec, embedOpt)\n",
       "        .catch(err => showError(`Javascript Error: ${err.message}<br>This usually means there's a typo in your chart specification. See the javascript console for the full traceback.`));\n",
       "    }\n",
       "\n",
       "    if(typeof define === \"function\" && define.amd) {\n",
       "      requirejs.config({paths});\n",
       "      let deps = [\"vega-embed\"];\n",
       "      require(deps, displayChart, err => showError(`Error loading script: ${err.message}`));\n",
       "    } else {\n",
       "      maybeLoadScript(\"vega\", \"5\")\n",
       "        .then(() => maybeLoadScript(\"vega-lite\", \"5.20.1\"))\n",
       "        .then(() => maybeLoadScript(\"vega-embed\", \"6\"))\n",
       "        .catch(showError)\n",
       "        .then(() => displayChart(vegaEmbed));\n",
       "    }\n",
       "  })({\"config\": {\"view\": {\"continuousWidth\": 300, \"continuousHeight\": 300}}, \"data\": {\"name\": \"data-c26df7553021039cb053ec1b27e9fcb5\"}, \"mark\": {\"type\": \"bar\"}, \"encoding\": {\"tooltip\": [{\"field\": \"County\", \"type\": \"nominal\"}, {\"field\": \"Plant Count\", \"type\": \"quantitative\"}], \"x\": {\"field\": \"Plant Count\", \"type\": \"quantitative\"}, \"y\": {\"field\": \"County\", \"sort\": \"-x\", \"type\": \"nominal\"}}, \"height\": 400, \"params\": [{\"name\": \"param_1\", \"select\": {\"type\": \"interval\", \"encodings\": [\"x\", \"y\"]}, \"bind\": \"scales\"}], \"title\": \"Solar Plants by County (Top Contributors)\", \"width\": 600, \"$schema\": \"https://vega.github.io/schema/vega-lite/v5.20.1.json\", \"datasets\": {\"data-c26df7553021039cb053ec1b27e9fcb5\": [{\"County\": \"LOS ANGELES\", \"Plant Count\": 151}, {\"County\": \"KERN\", \"Plant Count\": 126}, {\"County\": \"SAN BERNARDINO\", \"Plant Count\": 113}, {\"County\": \"RIVERSIDE\", \"Plant Count\": 57}, {\"County\": \"FRESNO\", \"Plant Count\": 56}, {\"County\": \"SACRAMENTO\", \"Plant Count\": 42}, {\"County\": \"TULARE\", \"Plant Count\": 38}, {\"County\": \"SAN DIEGO\", \"Plant Count\": 36}, {\"County\": \"KINGS\", \"Plant Count\": 35}, {\"County\": \"IMPERIAL\", \"Plant Count\": 27}, {\"County\": \"SANTA CLARA\", \"Plant Count\": 21}, {\"County\": \"CONTRA COSTA\", \"Plant Count\": 17}, {\"County\": \"SOLANO\", \"Plant Count\": 17}, {\"County\": \"SAN LUIS OBISPO\", \"Plant Count\": 15}, {\"County\": \"ALAMEDA\", \"Plant Count\": 13}, {\"County\": \"SONOMA\", \"Plant Count\": 13}, {\"County\": \"MERCED\", \"Plant Count\": 13}, {\"County\": \"TEHAMA\", \"Plant Count\": 11}, {\"County\": \"YOLO\", \"Plant Count\": 9}, {\"County\": \"MONTEREY\", \"Plant Count\": 9}, {\"County\": \"BUTTE\", \"Plant Count\": 8}, {\"County\": \"SAN JOAQUIN\", \"Plant Count\": 8}, {\"County\": \"SAN FRANCISCO\", \"Plant Count\": 8}, {\"County\": \"MARICOPA\", \"Plant Count\": 7}, {\"County\": \"MADERA\", \"Plant Count\": 6}, {\"County\": \"CLARK\", \"Plant Count\": 6}, {\"County\": \"STANISLAUS\", \"Plant Count\": 6}, {\"County\": \"SAN BENITO\", \"Plant Count\": 5}, {\"County\": \"MENDOCINO\", \"Plant Count\": 5}, {\"County\": \"SHASTA\", \"Plant Count\": 5}, {\"County\": \"ORANGE\", \"Plant Count\": 4}, {\"County\": \"PLACER\", \"Plant Count\": 4}, {\"County\": \"SANTA BARBARA\", \"Plant Count\": 3}, {\"County\": \"SUTTER\", \"Plant Count\": 3}, {\"County\": \"LAKE\", \"Plant Count\": 3}, {\"County\": \"VENTURA\", \"Plant Count\": 3}, {\"County\": \"YUMA\", \"Plant Count\": 2}, {\"County\": \"NAPA\", \"Plant Count\": 2}, {\"County\": \"SANTA CRUZ\", \"Plant Count\": 2}, {\"County\": \"TUOLUMNE\", \"Plant Count\": 2}, {\"County\": \"MARIN\", \"Plant Count\": 2}, {\"County\": \"LASSEN\", \"Plant Count\": 1}, {\"County\": \"MOHAVE VALLEY\", \"Plant Count\": 1}, {\"County\": \"NYE\", \"Plant Count\": 1}, {\"County\": \"INYO\", \"Plant Count\": 1}, {\"County\": \"CALAVERAS\", \"Plant Count\": 1}, {\"County\": \"GLENN\", \"Plant Count\": 1}, {\"County\": \"AMADOR\", \"Plant Count\": 1}, {\"County\": \"HUMBOLDT\", \"Plant Count\": 1}, {\"County\": \"YUBA\", \"Plant Count\": 1}, {\"County\": \"ALL\", \"Plant Count\": 1}]}}, {\"mode\": \"vega-lite\"});\n",
       "</script>"
      ],
      "text/plain": [
       "alt.Chart(...)"
      ]
     },
     "metadata": {},
     "output_type": "display_data"
    },
    {
     "data": {
      "application/vnd.jupyter.widget-view+json": {
       "model_id": "b2ad43640cda4d7e883eed7ea4173145",
       "version_major": 2,
       "version_minor": 0
      },
      "text/plain": [
       "VBox(children=(BoundedFloatText(value=0.0, description='% in LA:', step=0.1, style=DescriptionStyle(descriptio…"
      ]
     },
     "metadata": {},
     "output_type": "display_data"
    }
   ],
   "source": [
    "import pandas as pd\n",
    "import altair as alt\n",
    "import ipywidgets as widgets\n",
    "import time\n",
    "from IPython.display import display, clear_output\n",
    "\n",
    "def start_solar_pct_task():\n",
    "    global percentage_input\n",
    "    clear_output()\n",
    "    print(\"☀️ Task: There are 925 total solar plants in California. What percentage of solar plants are located in Los Angeles County?\")\n",
    "\n",
    "    # Ensure global responses list exists\n",
    "    if 'responses' not in globals():\n",
    "        global responses\n",
    "        responses = []\n",
    "\n",
    "    start_time = time.time()\n",
    "\n",
    "    # Filter solar plants\n",
    "    solar_df = df[df['PriEnergySource'] == 'SUN']\n",
    "    county_counts = solar_df['County'].str.upper().value_counts().reset_index()\n",
    "    county_counts.columns = ['County', 'Plant Count']\n",
    "\n",
    "    # Calculate correct answer\n",
    "    la_count = county_counts[county_counts['County'] == 'LOS ANGELES']['Plant Count'].values[0]\n",
    "    total_count = county_counts['Plant Count'].sum()\n",
    "    percent_actual = round((la_count / total_count) * 100, 2)\n",
    "\n",
    "    # Display chart\n",
    "    chart = alt.Chart(county_counts).mark_bar().encode(\n",
    "        y=alt.Y('County:N', sort='-x'),\n",
    "        x=alt.X('Plant Count:Q'),\n",
    "        tooltip=['County', 'Plant Count']\n",
    "    ).properties(\n",
    "        title='Solar Plants by County (Top Contributors)',\n",
    "        width=600,\n",
    "        height=400\n",
    "    ).interactive()\n",
    "\n",
    "    display(chart)\n",
    "\n",
    "    # User input\n",
    "    percentage_input = widgets.BoundedFloatText(\n",
    "        min=0, max=100, step=0.1,\n",
    "        description='% in LA:',\n",
    "        style={'description_width': 'initial'}\n",
    "    )\n",
    "\n",
    "    submit_button = widgets.Button(description=\"Submit Answer\")\n",
    "    output = widgets.Output()\n",
    "\n",
    "    def on_submit(b):\n",
    "        elapsed = time.time() - start_time\n",
    "\n",
    "        responses.append({\n",
    "            'question': 'Q: What % of solar plants are in LA County?',\n",
    "            'user_answer': percentage_input.value,\n",
    "            'correct_answer': percent_actual,\n",
    "            'time_sec': round(elapsed, 2)\n",
    "        })\n",
    "\n",
    "        with output:\n",
    "            clear_output()\n",
    "            display(widgets.HTML(\"✅ Answer recorded. You may proceed.\"))\n",
    "\n",
    "    submit_button.on_click(on_submit)\n",
    "    display(widgets.VBox([percentage_input, submit_button, output]))\n",
    "\n",
    "\n",
    "# 🚀 Run the task\n",
    "start_solar_pct_task()\n",
    "\n"
   ]
  },
  {
   "cell_type": "markdown",
   "id": "c27c72fe",
   "metadata": {},
   "source": [
    "<div style=\"background-color:#007acc; height:40px; margin-top:30px; margin-bottom:10px; border-radius:5px;\">\n",
    "  <h2 style=\"color:white; padding:8px 15px; margin:0;\">📊 4) Enter the difference in MW capacity between solar and natural gas plants. </h2>\n",
    "</div>"
   ]
  },
  {
   "cell_type": "code",
   "execution_count": 19,
   "id": "d58a248a",
   "metadata": {
    "tags": [
     "hide_input"
    ]
   },
   "outputs": [
    {
     "name": "stdout",
     "output_type": "stream",
     "text": [
      "⚡ Task: Estimate the MW difference in total capacity between solar and natural gas plants.\n",
      "Use the chart below and enter your best guess for: (solar MW) - (natural gas MW)\n"
     ]
    },
    {
     "data": {
      "text/html": [
       "\n",
       "<style>\n",
       "  #altair-viz-089fb2dde3df46af94a6aa5dc1586cde.vega-embed {\n",
       "    width: 100%;\n",
       "    display: flex;\n",
       "  }\n",
       "\n",
       "  #altair-viz-089fb2dde3df46af94a6aa5dc1586cde.vega-embed details,\n",
       "  #altair-viz-089fb2dde3df46af94a6aa5dc1586cde.vega-embed details summary {\n",
       "    position: relative;\n",
       "  }\n",
       "</style>\n",
       "<div id=\"altair-viz-089fb2dde3df46af94a6aa5dc1586cde\"></div>\n",
       "<script type=\"text/javascript\">\n",
       "  var VEGA_DEBUG = (typeof VEGA_DEBUG == \"undefined\") ? {} : VEGA_DEBUG;\n",
       "  (function(spec, embedOpt){\n",
       "    let outputDiv = document.currentScript.previousElementSibling;\n",
       "    if (outputDiv.id !== \"altair-viz-089fb2dde3df46af94a6aa5dc1586cde\") {\n",
       "      outputDiv = document.getElementById(\"altair-viz-089fb2dde3df46af94a6aa5dc1586cde\");\n",
       "    }\n",
       "\n",
       "    const paths = {\n",
       "      \"vega\": \"https://cdn.jsdelivr.net/npm/vega@5?noext\",\n",
       "      \"vega-lib\": \"https://cdn.jsdelivr.net/npm/vega-lib?noext\",\n",
       "      \"vega-lite\": \"https://cdn.jsdelivr.net/npm/vega-lite@5.20.1?noext\",\n",
       "      \"vega-embed\": \"https://cdn.jsdelivr.net/npm/vega-embed@6?noext\",\n",
       "    };\n",
       "\n",
       "    function maybeLoadScript(lib, version) {\n",
       "      var key = `${lib.replace(\"-\", \"\")}_version`;\n",
       "      return (VEGA_DEBUG[key] == version) ?\n",
       "        Promise.resolve(paths[lib]) :\n",
       "        new Promise(function(resolve, reject) {\n",
       "          var s = document.createElement('script');\n",
       "          document.getElementsByTagName(\"head\")[0].appendChild(s);\n",
       "          s.async = true;\n",
       "          s.onload = () => {\n",
       "            VEGA_DEBUG[key] = version;\n",
       "            return resolve(paths[lib]);\n",
       "          };\n",
       "          s.onerror = () => reject(`Error loading script: ${paths[lib]}`);\n",
       "          s.src = paths[lib];\n",
       "        });\n",
       "    }\n",
       "\n",
       "    function showError(err) {\n",
       "      outputDiv.innerHTML = `<div class=\"error\" style=\"color:red;\">${err}</div>`;\n",
       "      throw err;\n",
       "    }\n",
       "\n",
       "    function displayChart(vegaEmbed) {\n",
       "      vegaEmbed(outputDiv, spec, embedOpt)\n",
       "        .catch(err => showError(`Javascript Error: ${err.message}<br>This usually means there's a typo in your chart specification. See the javascript console for the full traceback.`));\n",
       "    }\n",
       "\n",
       "    if(typeof define === \"function\" && define.amd) {\n",
       "      requirejs.config({paths});\n",
       "      let deps = [\"vega-embed\"];\n",
       "      require(deps, displayChart, err => showError(`Error loading script: ${err.message}`));\n",
       "    } else {\n",
       "      maybeLoadScript(\"vega\", \"5\")\n",
       "        .then(() => maybeLoadScript(\"vega-lite\", \"5.20.1\"))\n",
       "        .then(() => maybeLoadScript(\"vega-embed\", \"6\"))\n",
       "        .catch(showError)\n",
       "        .then(() => displayChart(vegaEmbed));\n",
       "    }\n",
       "  })({\"config\": {\"view\": {\"continuousWidth\": 300, \"continuousHeight\": 300}}, \"data\": {\"name\": \"data-d415cbaaa97789db5f39c65653bb30c1\"}, \"mark\": {\"type\": \"bar\"}, \"encoding\": {\"tooltip\": [{\"field\": \"PriEnergySource\", \"type\": \"nominal\"}, {\"field\": \"Capacity_Latest\", \"type\": \"quantitative\"}], \"x\": {\"field\": \"PriEnergySource\", \"title\": \"Energy Source\", \"type\": \"nominal\"}, \"y\": {\"field\": \"Capacity_Latest\", \"title\": \"Total Capacity (MW)\", \"type\": \"quantitative\"}}, \"height\": 300, \"title\": \"Total Generation Capacity by Source (SUN vs NG)\", \"width\": 400, \"$schema\": \"https://vega.github.io/schema/vega-lite/v5.20.1.json\", \"datasets\": {\"data-d415cbaaa97789db5f39c65653bb30c1\": [{\"PriEnergySource\": \"NG\", \"Capacity_Latest\": 55066.19}, {\"PriEnergySource\": \"SUN\", \"Capacity_Latest\": 24064.97}]}}, {\"mode\": \"vega-lite\"});\n",
       "</script>"
      ],
      "text/plain": [
       "alt.Chart(...)"
      ]
     },
     "metadata": {},
     "output_type": "display_data"
    },
    {
     "data": {
      "application/vnd.jupyter.widget-view+json": {
       "model_id": "d27abf3d61534fb587f27966421b4e7f",
       "version_major": 2,
       "version_minor": 0
      },
      "text/plain": [
       "VBox(children=(BoundedFloatText(value=0.0, description='MW Difference:', max=10000.0, min=-10000.0, step=10.0,…"
      ]
     },
     "metadata": {},
     "output_type": "display_data"
    }
   ],
   "source": [
    "import pandas as pd\n",
    "import altair as alt\n",
    "import ipywidgets as widgets\n",
    "import time\n",
    "from IPython.display import display, clear_output\n",
    "\n",
    "def start_capacity_comparison_task():\n",
    "    global difference_input\n",
    "    clear_output()\n",
    "    print(\"⚡ Task: Estimate the MW difference in total capacity between solar and natural gas plants.\")\n",
    "    print(\"Use the chart below and enter your best guess for: (solar MW) - (natural gas MW)\")\n",
    "\n",
    "    # Aggregate capacity by primary energy source\n",
    "    df['Capacity_Latest'] = pd.to_numeric(df['Capacity_Latest'], errors='coerce')\n",
    "    source_totals = df.groupby('PriEnergySource')['Capacity_Latest'].sum().reset_index()\n",
    "    filtered_sources = source_totals[source_totals['PriEnergySource'].isin(['SUN', 'NG'])]\n",
    "\n",
    "    # Display chart\n",
    "    chart = alt.Chart(filtered_sources).mark_bar().encode(\n",
    "        x=alt.X('PriEnergySource:N', title='Energy Source'),\n",
    "        y=alt.Y('Capacity_Latest:Q', title='Total Capacity (MW)'),\n",
    "        tooltip=['PriEnergySource', 'Capacity_Latest']\n",
    "    ).properties(\n",
    "        title='Total Generation Capacity by Source (SUN vs NG)',\n",
    "        width=400,\n",
    "        height=300\n",
    "    )\n",
    "    display(chart)\n",
    "\n",
    "    # Input and submission\n",
    "    difference_input = widgets.BoundedFloatText(\n",
    "        value=0,\n",
    "        min=-10000,\n",
    "        max=10000,\n",
    "        step=10,\n",
    "        description='MW Difference:',\n",
    "        style={'description_width': 'initial'}\n",
    "    )\n",
    "\n",
    "    submit_button = widgets.Button(description=\"Submit Answer\")\n",
    "    submission_output = widgets.Output()\n",
    "\n",
    "    def on_submit(b):\n",
    "        user_guess = difference_input.value\n",
    "        actual_diff = filtered_sources.loc[filtered_sources['PriEnergySource'] == 'SUN', 'Capacity_Latest'].values[0] - \\\n",
    "                      filtered_sources.loc[filtered_sources['PriEnergySource'] == 'NG', 'Capacity_Latest'].values[0]\n",
    "\n",
    "        responses.append({\n",
    "            'question': 'Q: What is the MW capacity difference between solar and natural gas?',\n",
    "            'user_answer': user_guess,\n",
    "            'actual_difference': round(actual_diff),\n",
    "            'is_close': abs(user_guess - actual_diff) < 500  # Optional threshold\n",
    "        })\n",
    "\n",
    "        with submission_output:\n",
    "            clear_output()\n",
    "            display(widgets.HTML(\n",
    "                f\"<b>✅ Answer recorded.</b><br>\"\n",
    "                #f\"Actual Difference: {round(actual_diff)} MW<br>\"\n",
    "                f\"You may proceed to the next task.\"\n",
    "            ))\n",
    "\n",
    "    submit_button.on_click(on_submit)\n",
    "    display(widgets.VBox([difference_input, submit_button, submission_output]))\n",
    "\n",
    "\n",
    "# 🚀 Launch the task\n",
    "start_capacity_comparison_task()\n"
   ]
  },
  {
   "cell_type": "markdown",
   "id": "d54019c1",
   "metadata": {},
   "source": [
    "<div style=\"background-color:#007acc; height:40px; margin-top:30px; margin-bottom:10px; border-radius:5px;\">\n",
    "  <h2 style=\"color:white; padding:8px 15px; margin:0;\">📊 5) How many hydroelectric plants are in Northern California? </h2>\n",
    "</div>"
   ]
  },
  {
   "cell_type": "code",
   "execution_count": 22,
   "id": "c86f0016",
   "metadata": {
    "tags": [
     "hide_input"
    ]
   },
   "outputs": [
    {
     "data": {
      "application/vnd.jupyter.widget-view+json": {
       "model_id": "3706d1ff0d5b4a6b87faecd35baf6d72",
       "version_major": 2,
       "version_minor": 0
      },
      "text/plain": [
       "VBox(children=(SelectMultiple(description='Sources:', index=(0,), layout=Layout(height='150px', width='250px')…"
      ]
     },
     "metadata": {},
     "output_type": "display_data"
    }
   ],
   "source": [
    "#completed for survey; submit button worked\n",
    "import pandas as pd\n",
    "import altair as alt\n",
    "import ipywidgets as widgets\n",
    "import time\n",
    "from IPython.display import display, clear_output\n",
    "\n",
    "# Load and clean dataset\n",
    "df = pd.read_csv(\"Power_Plant.csv\")\n",
    "df['PriEnergySource'] = df['PriEnergySource'].str.upper()\n",
    "df['Capacity_Latest'] = pd.to_numeric(df['Capacity_Latest'], errors='coerce')\n",
    "\n",
    "# Set up responses log if not already\n",
    "if 'responses' not in globals():\n",
    "    responses = []\n",
    "\n",
    "def start_hydro_filter_task():\n",
    "    global hydro_input  # ⬅️ Make the input globally accessible\n",
    "\n",
    "    clear_output()\n",
    "    start_time = time.time()\n",
    "\n",
    "    # Get all unique energy sources\n",
    "    energy_options = sorted(df['PriEnergySource'].dropna().unique().tolist())\n",
    "    default_selection = ('AB',) if 'AB' in energy_options else (energy_options[0],)\n",
    "\n",
    "    # Widgets\n",
    "    energy_selector = widgets.SelectMultiple(\n",
    "        options=energy_options,\n",
    "        value=default_selection,\n",
    "        description='Sources:',\n",
    "        layout=widgets.Layout(width='250px', height='150px')\n",
    "    )\n",
    "\n",
    "    north_toggle = widgets.Checkbox(\n",
    "        value=False,\n",
    "        description='Show only Northern CA'\n",
    "    )\n",
    "\n",
    "    hint = widgets.HTML(value=\"<i>Hint: Try selecting the code WAT to find hydroelectric plants.</i>\")\n",
    "\n",
    "    chart_output = widgets.Output()\n",
    "    count_output = widgets.Output()\n",
    "    submission_output = widgets.Output()\n",
    "\n",
    "    # Chart update function\n",
    "    def update_chart(change=None):\n",
    "        with chart_output:\n",
    "            clear_output()\n",
    "\n",
    "            selected_sources = list(energy_selector.value)\n",
    "            lat_filter = df['y'] > 38 if north_toggle.value else pd.Series([True] * len(df))\n",
    "            filtered_df = df[df['PriEnergySource'].isin(selected_sources) & lat_filter]\n",
    "\n",
    "            chart = alt.Chart(filtered_df).mark_circle(size=70).encode(\n",
    "                longitude='x:Q',\n",
    "                latitude='y:Q',\n",
    "                tooltip=['PlantName', 'County', 'PriEnergySource'],\n",
    "                color='PriEnergySource:N'\n",
    "            ).properties(\n",
    "                title='Filtered Power Plants on Map',\n",
    "                width=600,\n",
    "                height=500\n",
    "            ).project('albersUsa')\n",
    "\n",
    "            display(chart)\n",
    "\n",
    "        with count_output:\n",
    "            clear_output()\n",
    "            display(widgets.HTML(f\"<b>Plant Count:</b> {len(filtered_df)}\"))\n",
    "\n",
    "    energy_selector.observe(update_chart, names='value')\n",
    "    north_toggle.observe(update_chart, names='value')\n",
    "    update_chart()\n",
    "\n",
    "    # Global response widget\n",
    "    hydro_input = widgets.Text(\n",
    "        description='Answer:',\n",
    "        placeholder='e.g. 12 hydro plants found across 5 counties'\n",
    "    )\n",
    "\n",
    "    submit_button = widgets.Button(description=\"Submit Answer\")\n",
    "\n",
    "    def on_submit(b):\n",
    "        elapsed = time.time() - start_time\n",
    "        selected_sources = list(energy_selector.value)\n",
    "        lat_filter = df['y'] > 38 if north_toggle.value else pd.Series([True] * len(df))\n",
    "        filtered_df = df[df['PriEnergySource'].isin(selected_sources) & lat_filter]\n",
    "\n",
    "        responses.append({\n",
    "            'question': 'Q: Locate hydro plants using filters and lat toggle',\n",
    "            'user_answer': hydro_input.value,  # ⬅️ Use global var here\n",
    "            'sources_selected': selected_sources,\n",
    "            'northern_ca_only': north_toggle.value,\n",
    "            'plant_count': len(filtered_df),\n",
    "            'time_sec': round(elapsed, 2)\n",
    "        })\n",
    "\n",
    "        with submission_output:\n",
    "            clear_output()\n",
    "            display(widgets.HTML(\n",
    "                f\"<b>✅ Answer recorded.</b> Time taken: {elapsed:.2f} seconds<br>\"\n",
    "                #f\"<b>Plants shown on map:</b> {len(filtered_df)}<br>\"\n",
    "                f\"You can now proceed to the next task.\"\n",
    "            ))\n",
    "\n",
    "    submit_button.on_click(on_submit)\n",
    "\n",
    "    display(widgets.VBox([\n",
    "        energy_selector,\n",
    "        north_toggle,\n",
    "        hint,\n",
    "        count_output,\n",
    "        chart_output,\n",
    "        hydro_input,  # ⬅️ Display global widget\n",
    "        submit_button,\n",
    "        submission_output\n",
    "    ]))\n",
    "\n",
    "\n",
    "# Run the task\n",
    "start_hydro_filter_task()\n",
    "\n",
    "\n"
   ]
  },
  {
   "cell_type": "markdown",
   "id": "96c85054",
   "metadata": {
    "tags": [
     "hide_input"
    ]
   },
   "source": [
    "<div style=\"background-color:#007acc; height:40px; margin-top:30px; margin-bottom:10px; border-radius:5px;\">\n",
    "  <h2 style=\"color:white; padding:8px 15px; margin:0;\">📊 6) Which operator manages the most power plant facilities? </h2>\n",
    "</div>"
   ]
  },
  {
   "cell_type": "code",
   "execution_count": 63,
   "id": "80b08ed2",
   "metadata": {
    "tags": [
     "hide_input"
    ]
   },
   "outputs": [
    {
     "name": "stdout",
     "output_type": "stream",
     "text": [
      "🏢 Task: Which operator manages the most power plants in California?\n"
     ]
    },
    {
     "data": {
      "text/html": [
       "\n",
       "<style>\n",
       "  #altair-viz-e7916f6c15444902a1335f2579e847bc.vega-embed {\n",
       "    width: 100%;\n",
       "    display: flex;\n",
       "  }\n",
       "\n",
       "  #altair-viz-e7916f6c15444902a1335f2579e847bc.vega-embed details,\n",
       "  #altair-viz-e7916f6c15444902a1335f2579e847bc.vega-embed details summary {\n",
       "    position: relative;\n",
       "  }\n",
       "</style>\n",
       "<div id=\"altair-viz-e7916f6c15444902a1335f2579e847bc\"></div>\n",
       "<script type=\"text/javascript\">\n",
       "  var VEGA_DEBUG = (typeof VEGA_DEBUG == \"undefined\") ? {} : VEGA_DEBUG;\n",
       "  (function(spec, embedOpt){\n",
       "    let outputDiv = document.currentScript.previousElementSibling;\n",
       "    if (outputDiv.id !== \"altair-viz-e7916f6c15444902a1335f2579e847bc\") {\n",
       "      outputDiv = document.getElementById(\"altair-viz-e7916f6c15444902a1335f2579e847bc\");\n",
       "    }\n",
       "\n",
       "    const paths = {\n",
       "      \"vega\": \"https://cdn.jsdelivr.net/npm/vega@5?noext\",\n",
       "      \"vega-lib\": \"https://cdn.jsdelivr.net/npm/vega-lib?noext\",\n",
       "      \"vega-lite\": \"https://cdn.jsdelivr.net/npm/vega-lite@5.20.1?noext\",\n",
       "      \"vega-embed\": \"https://cdn.jsdelivr.net/npm/vega-embed@6?noext\",\n",
       "    };\n",
       "\n",
       "    function maybeLoadScript(lib, version) {\n",
       "      var key = `${lib.replace(\"-\", \"\")}_version`;\n",
       "      return (VEGA_DEBUG[key] == version) ?\n",
       "        Promise.resolve(paths[lib]) :\n",
       "        new Promise(function(resolve, reject) {\n",
       "          var s = document.createElement('script');\n",
       "          document.getElementsByTagName(\"head\")[0].appendChild(s);\n",
       "          s.async = true;\n",
       "          s.onload = () => {\n",
       "            VEGA_DEBUG[key] = version;\n",
       "            return resolve(paths[lib]);\n",
       "          };\n",
       "          s.onerror = () => reject(`Error loading script: ${paths[lib]}`);\n",
       "          s.src = paths[lib];\n",
       "        });\n",
       "    }\n",
       "\n",
       "    function showError(err) {\n",
       "      outputDiv.innerHTML = `<div class=\"error\" style=\"color:red;\">${err}</div>`;\n",
       "      throw err;\n",
       "    }\n",
       "\n",
       "    function displayChart(vegaEmbed) {\n",
       "      vegaEmbed(outputDiv, spec, embedOpt)\n",
       "        .catch(err => showError(`Javascript Error: ${err.message}<br>This usually means there's a typo in your chart specification. See the javascript console for the full traceback.`));\n",
       "    }\n",
       "\n",
       "    if(typeof define === \"function\" && define.amd) {\n",
       "      requirejs.config({paths});\n",
       "      let deps = [\"vega-embed\"];\n",
       "      require(deps, displayChart, err => showError(`Error loading script: ${err.message}`));\n",
       "    } else {\n",
       "      maybeLoadScript(\"vega\", \"5\")\n",
       "        .then(() => maybeLoadScript(\"vega-lite\", \"5.20.1\"))\n",
       "        .then(() => maybeLoadScript(\"vega-embed\", \"6\"))\n",
       "        .catch(showError)\n",
       "        .then(() => displayChart(vegaEmbed));\n",
       "    }\n",
       "  })({\"config\": {\"view\": {\"continuousWidth\": 300, \"continuousHeight\": 300}}, \"data\": {\"name\": \"data-d6e430a876ce9d63a3424913164b0331\"}, \"mark\": {\"type\": \"bar\"}, \"encoding\": {\"tooltip\": [{\"field\": \"Operator\", \"type\": \"nominal\"}, {\"field\": \"Plant Count\", \"type\": \"quantitative\"}], \"x\": {\"field\": \"Plant Count\", \"type\": \"quantitative\"}, \"y\": {\"field\": \"Operator\", \"sort\": \"-x\", \"type\": \"nominal\"}}, \"height\": 300, \"title\": \"Top 5 Operators by Plant Count\", \"width\": 500, \"$schema\": \"https://vega.github.io/schema/vega-lite/v5.20.1.json\", \"datasets\": {\"data-d6e430a876ce9d63a3424913164b0331\": [{\"Operator\": \"Pacific Gas & Electric (PG&E)\", \"Plant Count\": 84}, {\"Operator\": \"Southern California Edison (SCE)\", \"Plant Count\": 75}, {\"Operator\": \"S-Power (Sustainable Power Group)\", \"Plant Count\": 74}, {\"Operator\": \"See WPRS for details\", \"Plant Count\": 52}, {\"Operator\": \"Los Angeles Department of Water & Power (LADWP)\", \"Plant Count\": 26}]}}, {\"mode\": \"vega-lite\"});\n",
       "</script>"
      ],
      "text/plain": [
       "alt.Chart(...)"
      ]
     },
     "metadata": {},
     "output_type": "display_data"
    },
    {
     "data": {
      "application/vnd.jupyter.widget-view+json": {
       "model_id": "949a917f39e445a5b3ca0489fcdc5f8c",
       "version_major": 2,
       "version_minor": 0
      },
      "text/plain": [
       "VBox(children=(Text(value='', description='Answer:', placeholder='e.g. Calpine', style=TextStyle(description_w…"
      ]
     },
     "metadata": {},
     "output_type": "display_data"
    },
    {
     "name": "stdout",
     "output_type": "stream",
     "text": [
      "DEBUG: Submitting value: SCE\n",
      "DEBUG: Total responses stored: 12\n"
     ]
    }
   ],
   "source": [
    "import pandas as pd\n",
    "import altair as alt\n",
    "import ipywidgets as widgets\n",
    "import random\n",
    "import time\n",
    "from IPython.display import display, clear_output\n",
    "\n",
    "def start_operator_question():\n",
    "    global answer_input\n",
    "    clear_output()\n",
    "    print(\"🏢 Task: Which operator manages the most power plants in California?\")\n",
    "\n",
    "    # Ensure responses exists\n",
    "    if 'responses' not in globals():\n",
    "        global responses\n",
    "        responses = []\n",
    "\n",
    "    start_time = time.time()\n",
    "\n",
    "    # Clean and prepare top operator data\n",
    "    operator_clean = df[~df['Operator Company'].str.upper().isin(['UNKNOWN', 'NOT AVAILABLE'])]\n",
    "    top_ops = operator_clean['Operator Company'].value_counts().head(5).reset_index()\n",
    "    top_ops.columns = ['Operator', 'Plant Count']\n",
    "\n",
    "    # Chart (unchanged)\n",
    "    chart = alt.Chart(top_ops).mark_bar().encode(\n",
    "        x='Plant Count:Q',\n",
    "        y=alt.Y('Operator:N', sort='-x'),\n",
    "        tooltip=['Operator', 'Plant Count']\n",
    "    ).properties(\n",
    "        title='Top 5 Operators by Plant Count',\n",
    "        width=500,\n",
    "        height=300\n",
    "    )\n",
    "    display(chart)\n",
    "\n",
    "    # Input + Submit\n",
    "    answer_input = widgets.Text(\n",
    "        placeholder='e.g. Calpine',\n",
    "        description='Answer:',\n",
    "        style={'description_width': 'initial'}\n",
    "    )\n",
    "\n",
    "    submit_button = widgets.Button(description=\"Submit Answer\")\n",
    "    output = widgets.Output()\n",
    "\n",
    "    def on_submit(b):\n",
    "        elapsed = time.time() - start_time\n",
    "        user_val = answer_input.value\n",
    "\n",
    "        print(\"DEBUG: Submitting value:\", user_val)\n",
    "\n",
    "        responses.append({\n",
    "        'question': 'Q: Which operator manages the most power plant facilities?',\n",
    "        'user_answer': user_val,\n",
    "        'correct_answer': top_ops.iloc[0]['Operator'],\n",
    "        'time_sec': round(elapsed, 2)\n",
    "        })\n",
    "\n",
    "        print(\"DEBUG: Total responses stored:\", len(responses))\n",
    "\n",
    "        with output:\n",
    "            clear_output()\n",
    "            display(widgets.HTML(\n",
    "            f\"<b>✅ Answer recorded:</b> {user_val}<br>\"\n",
    "            ))\n",
    "\n",
    "\n",
    "    submit_button.on_click(on_submit)\n",
    "    display(widgets.VBox([answer_input, submit_button, output]))\n",
    "\n",
    "\n",
    "# 🚀 Launch the task\n",
    "start_operator_question()\n"
   ]
  },
  {
   "cell_type": "code",
   "execution_count": 34,
   "id": "4571a82b",
   "metadata": {},
   "outputs": [
    {
     "data": {
      "text/plain": [
       "'SCE'"
      ]
     },
     "execution_count": 34,
     "metadata": {},
     "output_type": "execute_result"
    }
   ],
   "source": [
    "responses[-1]['user_answer']"
   ]
  },
  {
   "cell_type": "markdown",
   "id": "ae634bec",
   "metadata": {},
   "source": [
    "<div style=\"background-color:#007acc; height:40px; margin-top:30px; margin-bottom:10px; border-radius:5px;\">\n",
    "  <h2 style=\"color:white; padding:8px 15px; margin:0;\">📊 7) What is the most common energy source for power plants in California?\n",
    "</h2>\n",
    "</div>"
   ]
  },
  {
   "cell_type": "code",
   "execution_count": 38,
   "id": "8a0164ab",
   "metadata": {
    "tags": [
     "hide_input"
    ]
   },
   "outputs": [
    {
     "name": "stdout",
     "output_type": "stream",
     "text": [
      "⚡️ Task: What is the most common energy source for power plants in California?\n"
     ]
    },
    {
     "data": {
      "text/html": [
       "\n",
       "<style>\n",
       "  #altair-viz-ddd94806e92249afab591b398f710f4f.vega-embed {\n",
       "    width: 100%;\n",
       "    display: flex;\n",
       "  }\n",
       "\n",
       "  #altair-viz-ddd94806e92249afab591b398f710f4f.vega-embed details,\n",
       "  #altair-viz-ddd94806e92249afab591b398f710f4f.vega-embed details summary {\n",
       "    position: relative;\n",
       "  }\n",
       "</style>\n",
       "<div id=\"altair-viz-ddd94806e92249afab591b398f710f4f\"></div>\n",
       "<script type=\"text/javascript\">\n",
       "  var VEGA_DEBUG = (typeof VEGA_DEBUG == \"undefined\") ? {} : VEGA_DEBUG;\n",
       "  (function(spec, embedOpt){\n",
       "    let outputDiv = document.currentScript.previousElementSibling;\n",
       "    if (outputDiv.id !== \"altair-viz-ddd94806e92249afab591b398f710f4f\") {\n",
       "      outputDiv = document.getElementById(\"altair-viz-ddd94806e92249afab591b398f710f4f\");\n",
       "    }\n",
       "\n",
       "    const paths = {\n",
       "      \"vega\": \"https://cdn.jsdelivr.net/npm/vega@5?noext\",\n",
       "      \"vega-lib\": \"https://cdn.jsdelivr.net/npm/vega-lib?noext\",\n",
       "      \"vega-lite\": \"https://cdn.jsdelivr.net/npm/vega-lite@5.20.1?noext\",\n",
       "      \"vega-embed\": \"https://cdn.jsdelivr.net/npm/vega-embed@6?noext\",\n",
       "    };\n",
       "\n",
       "    function maybeLoadScript(lib, version) {\n",
       "      var key = `${lib.replace(\"-\", \"\")}_version`;\n",
       "      return (VEGA_DEBUG[key] == version) ?\n",
       "        Promise.resolve(paths[lib]) :\n",
       "        new Promise(function(resolve, reject) {\n",
       "          var s = document.createElement('script');\n",
       "          document.getElementsByTagName(\"head\")[0].appendChild(s);\n",
       "          s.async = true;\n",
       "          s.onload = () => {\n",
       "            VEGA_DEBUG[key] = version;\n",
       "            return resolve(paths[lib]);\n",
       "          };\n",
       "          s.onerror = () => reject(`Error loading script: ${paths[lib]}`);\n",
       "          s.src = paths[lib];\n",
       "        });\n",
       "    }\n",
       "\n",
       "    function showError(err) {\n",
       "      outputDiv.innerHTML = `<div class=\"error\" style=\"color:red;\">${err}</div>`;\n",
       "      throw err;\n",
       "    }\n",
       "\n",
       "    function displayChart(vegaEmbed) {\n",
       "      vegaEmbed(outputDiv, spec, embedOpt)\n",
       "        .catch(err => showError(`Javascript Error: ${err.message}<br>This usually means there's a typo in your chart specification. See the javascript console for the full traceback.`));\n",
       "    }\n",
       "\n",
       "    if(typeof define === \"function\" && define.amd) {\n",
       "      requirejs.config({paths});\n",
       "      let deps = [\"vega-embed\"];\n",
       "      require(deps, displayChart, err => showError(`Error loading script: ${err.message}`));\n",
       "    } else {\n",
       "      maybeLoadScript(\"vega\", \"5\")\n",
       "        .then(() => maybeLoadScript(\"vega-lite\", \"5.20.1\"))\n",
       "        .then(() => maybeLoadScript(\"vega-embed\", \"6\"))\n",
       "        .catch(showError)\n",
       "        .then(() => displayChart(vegaEmbed));\n",
       "    }\n",
       "  })({\"config\": {\"view\": {\"continuousWidth\": 300, \"continuousHeight\": 300}}, \"data\": {\"name\": \"data-dfa9b353063c839bf7d1a63329874696\"}, \"mark\": {\"type\": \"bar\"}, \"encoding\": {\"color\": {\"field\": \"EnergySource\", \"legend\": null, \"type\": \"nominal\"}, \"tooltip\": [{\"field\": \"EnergySource\", \"type\": \"nominal\"}, {\"field\": \"PlantCount\", \"type\": \"quantitative\"}], \"x\": {\"field\": \"PlantCount\", \"title\": \"Number of Plants\", \"type\": \"quantitative\"}, \"y\": {\"field\": \"EnergySource\", \"sort\": \"-x\", \"type\": \"nominal\"}}, \"height\": 400, \"title\": \"Top 10 Energy Sources for Power Plants in California\", \"$schema\": \"https://vega.github.io/schema/vega-lite/v5.20.1.json\", \"datasets\": {\"data-dfa9b353063c839bf7d1a63329874696\": [{\"EnergySource\": \"SUN\", \"PlantCount\": 925}, {\"EnergySource\": \"NG\", \"PlantCount\": 357}, {\"EnergySource\": \"WAT\", \"PlantCount\": 298}, {\"EnergySource\": \"WND\", \"PlantCount\": 161}, {\"EnergySource\": \"LFG\", \"PlantCount\": 73}, {\"EnergySource\": \"GEO\", \"PlantCount\": 49}, {\"EnergySource\": \"WDS\", \"PlantCount\": 36}, {\"EnergySource\": \"OBG\", \"PlantCount\": 32}, {\"EnergySource\": \"BAT\", \"PlantCount\": 12}, {\"EnergySource\": \"PC\", \"PlantCount\": 9}]}}, {\"mode\": \"vega-lite\"});\n",
       "</script>"
      ],
      "text/plain": [
       "alt.Chart(...)"
      ]
     },
     "metadata": {},
     "output_type": "display_data"
    },
    {
     "data": {
      "application/vnd.jupyter.widget-view+json": {
       "model_id": "974fbd8caf4640b6b788dc45301f4dba",
       "version_major": 2,
       "version_minor": 0
      },
      "text/plain": [
       "VBox(children=(HTML(value='<h4>⚡️ What is the most common energy source for power plants in California?</h4>')…"
      ]
     },
     "metadata": {},
     "output_type": "display_data"
    }
   ],
   "source": [
    "import pandas as pd\n",
    "import altair as alt\n",
    "import ipywidgets as widgets\n",
    "import random\n",
    "import time\n",
    "from IPython.display import display, clear_output\n",
    "\n",
    "def start_energy_source_question():\n",
    "    global source_input  # ✅ globally accessible widget\n",
    "    clear_output()\n",
    "    print(\"⚡️ Task: What is the most common energy source for power plants in California?\")\n",
    "\n",
    "    # Ensure shared response log exists\n",
    "    if 'responses' not in globals():\n",
    "        global responses\n",
    "        responses = []\n",
    "\n",
    "    start_time = time.time()\n",
    "\n",
    "    # Count by energy source\n",
    "    energy_counts = df['PriEnergySource'].value_counts().reset_index()\n",
    "    energy_counts.columns = ['EnergySource', 'PlantCount']\n",
    "\n",
    "    # Correct answer\n",
    "    correct_source = energy_counts.iloc[0]['EnergySource']\n",
    "\n",
    "    # Chart (top 10 energy sources)\n",
    "    chart_data = energy_counts.head(10)\n",
    "    chart = alt.Chart(chart_data).mark_bar().encode(\n",
    "        x=alt.X('PlantCount:Q', title='Number of Plants'),\n",
    "        y=alt.Y('EnergySource:N', sort='-x'),\n",
    "        tooltip=['EnergySource', 'PlantCount'],\n",
    "        color=alt.Color('EnergySource:N', legend=None)\n",
    "    ).properties(\n",
    "        title='Top 10 Energy Sources for Power Plants in California',\n",
    "        height=400\n",
    "    )\n",
    "\n",
    "    # Generate choices (including correct answer)\n",
    "    distractors = energy_counts[energy_counts['EnergySource'] != correct_source]['EnergySource'].tolist()\n",
    "    choices = random.sample(distractors, 4) + [correct_source]\n",
    "    random.shuffle(choices)\n",
    "\n",
    "    # Question + widget\n",
    "    instructions = widgets.HTML(\"<h4>⚡️ What is the most common energy source for power plants in California?</h4>\")\n",
    "    source_input = widgets.RadioButtons(\n",
    "        options=choices,\n",
    "        description='Your Answer:',\n",
    "        layout=widgets.Layout(width='500px')\n",
    "    )\n",
    "\n",
    "    submit_button = widgets.Button(description=\"Submit Answer\")\n",
    "    submission_output = widgets.Output()\n",
    "\n",
    "    def on_submit(b):\n",
    "        elapsed = time.time() - start_time\n",
    "        selected = source_input.value\n",
    "\n",
    "        responses.append({\n",
    "            'question': 'Most common energy source in CA',\n",
    "            'user_answer': selected,\n",
    "            'correct_answer': correct_source,\n",
    "            'is_correct': selected == correct_source,\n",
    "            'time_sec': round(elapsed, 2)\n",
    "        })\n",
    "\n",
    "        with submission_output:\n",
    "            submission_output.clear_output()\n",
    "            display(widgets.HTML(\n",
    "                f\"<b>✅ Answer recorded:</b> {selected}<br>\"\n",
    "                f\"<b>Time taken:</b> {round(elapsed, 2)} seconds.<br>\"\n",
    "                f\"You may proceed to the next task.\"\n",
    "            ))\n",
    "\n",
    "    submit_button.on_click(on_submit)\n",
    "\n",
    "    display(chart)\n",
    "    display(widgets.VBox([\n",
    "        instructions,\n",
    "        source_input,\n",
    "        submit_button,\n",
    "        submission_output\n",
    "    ]))\n",
    "\n",
    "\n",
    "# 🚀 Launch the task\n",
    "start_energy_source_question()\n"
   ]
  },
  {
   "cell_type": "markdown",
   "id": "83217ccb",
   "metadata": {},
   "source": [
    "<div style=\"background-color:#007acc; height:40px; margin-top:30px; margin-bottom:10px; border-radius:5px;\">\n",
    "  <h2 style=\"color:white; padding:8px 15px; margin:0;\">📊 8) The visualizations helped me better understand California's energy system.\n",
    "</h2>\n",
    "</div>"
   ]
  },
  {
   "cell_type": "code",
   "execution_count": 58,
   "id": "1af8e2b9",
   "metadata": {},
   "outputs": [
    {
     "data": {
      "application/vnd.jupyter.widget-view+json": {
       "model_id": "b79a88272d544cca8b525655239844c0",
       "version_major": 2,
       "version_minor": 0
      },
      "text/plain": [
       "VBox(children=(HTML(value=\"<h4>💬 The visualizations helped me better understand California's energy system.</h…"
      ]
     },
     "metadata": {},
     "output_type": "display_data"
    }
   ],
   "source": [
    "import ipywidgets as widgets\n",
    "import time\n",
    "from IPython.display import display, clear_output\n",
    "\n",
    "def start_visualization_opinion_question():\n",
    "    global likert_scale  # ✅ Make the widget accessible globally\n",
    "    clear_output()\n",
    "\n",
    "    # Ensure global responses list exists\n",
    "    if 'responses' not in globals():\n",
    "        global responses\n",
    "        responses = []\n",
    "\n",
    "    start_time = time.time()\n",
    "\n",
    "    # Widgets (unchanged)\n",
    "    instructions = widgets.HTML(\"<h4>💬 The visualizations helped me better understand California's energy system.</h4>\")\n",
    "    \n",
    "    likert_scale = widgets.RadioButtons(\n",
    "        options=[\n",
    "            \"1 - Strongly Disagree\",\n",
    "            \"2 - Disagree\",\n",
    "            \"3 - Neutral\",\n",
    "            \"4 - Agree\",\n",
    "            \"5 - Strongly Agree\"\n",
    "        ],\n",
    "        description='Your Answer:',\n",
    "        layout=widgets.Layout(width='500px')\n",
    "    )\n",
    "\n",
    "    submit_button = widgets.Button(description=\"Submit Answer\")\n",
    "    submission_output = widgets.Output()\n",
    "\n",
    "    def on_submit(b):\n",
    "        elapsed = time.time() - start_time\n",
    "        user_response = likert_scale.value\n",
    "\n",
    "        responses.append({\n",
    "            'question': 'Visualization helpfulness',\n",
    "            'user_answer': user_response,\n",
    "            'time_sec': round(elapsed, 2)\n",
    "        })\n",
    "\n",
    "        with submission_output:\n",
    "            submission_output.clear_output()\n",
    "            display(widgets.HTML(\n",
    "                f\"<b>✅ Answer recorded.</b><br>Time taken: {round(elapsed, 2)} seconds.\"\n",
    "            ))\n",
    "\n",
    "    submit_button.on_click(on_submit)\n",
    "\n",
    "    display(widgets.VBox([\n",
    "        instructions,\n",
    "        likert_scale,\n",
    "        submit_button,\n",
    "        submission_output\n",
    "    ]))\n",
    "\n",
    "# 🚀 Launch the standalone question\n",
    "start_visualization_opinion_question()\n"
   ]
  },
  {
   "cell_type": "markdown",
   "id": "575800cb",
   "metadata": {
    "tags": [
     "hide_input"
    ]
   },
   "source": [
    "## CHECKS"
   ]
  },
  {
   "cell_type": "code",
   "execution_count": 93,
   "id": "d3f6adbc",
   "metadata": {
    "tags": [
     "hide_input"
    ]
   },
   "outputs": [
    {
     "name": "stdout",
     "output_type": "stream",
     "text": [
      "Submitting the following values:\n",
      "Prolific ID: dahsd\n",
      "Q1: Hoover Dam (NV)\n",
      "Q2: 5664\n",
      "Q3: 2\n",
      "Q4: 5.0\n",
      "Q5: 150.0\n",
      "Q6: 22\n",
      "Q7: SCE\n",
      "Q8: SUN\n",
      "Q9: 3 - Neutral\n",
      "Answer Input (operator): SCE\n",
      "User answer from responses: SCE\n"
     ]
    }
   ],
   "source": [
    "#CHECK Before Submitting to Google\n",
    "\n",
    "print(\"Submitting the following values:\")\n",
    "print(\"Prolific ID:\", prolific_id_input.value)\n",
    "print(\"Q1:\", plant_question.value)\n",
    "print(\"Q2:\", capacity_question.value)\n",
    "print(\"Q3:\", solar_input.value)\n",
    "print(\"Q4:\", percentage_input.value)\n",
    "print(\"Q5:\", difference_input.value)\n",
    "print(\"Q6:\", hydro_input.value)\n",
    "print(\"Q7:\", answer_input.value)\n",
    "print(\"Q8:\", source_input.value)\n",
    "print(\"Q9:\", likert_scale.value)\n",
    "\n",
    "print(\"Answer Input (operator):\", answer_input.value)\n",
    "print(\"User answer from responses:\", responses[-1]['user_answer'])"
   ]
  },
  {
   "cell_type": "code",
   "execution_count": 98,
   "id": "9605707a",
   "metadata": {},
   "outputs": [
    {
     "data": {
      "application/vnd.jupyter.widget-view+json": {
       "model_id": "d66d67e4c71a4521b8ca5c649ada9d8c",
       "version_major": 2,
       "version_minor": 0
      },
      "text/plain": [
       "Button(button_style='success', description='📩 Submit Survey', style=ButtonStyle())"
      ]
     },
     "metadata": {},
     "output_type": "display_data"
    },
    {
     "data": {
      "application/vnd.jupyter.widget-view+json": {
       "model_id": "b0ad979a89e34b03927fc65696ac542c",
       "version_major": 2,
       "version_minor": 0
      },
      "text/plain": [
       "Output()"
      ]
     },
     "metadata": {},
     "output_type": "display_data"
    }
   ],
   "source": [
    "import requests\n",
    "import time\n",
    "from IPython.display import clear_output\n",
    "import ipywidgets as widgets\n",
    "\n",
    "# ✅ Replace this with your actual Zapier Webhook URL\n",
    "ZAPIER_WEBHOOK_URL = \"https://hooks.zapier.com/hooks/catch/22581158/2x5ez87/\"\n",
    "\n",
    "# ✅ 1. Define the Zapier submission function\n",
    "def send_responses_to_zapier():\n",
    "    payload = {\n",
    "        \"prolific_id\": prolific_id_input.value,\n",
    "        \"plant_name\": plant_question.value,\n",
    "        \"generation_capacity\": capacity_question.value,\n",
    "        \"solar_count\": solar_input.value,\n",
    "        \"percent_in_la\": percentage_input.value,\n",
    "        \"mw_difference\": difference_input.value,\n",
    "        \"hydro_count\": hydro_input.value,\n",
    "        \"operator\": answer_input.value,\n",
    "        \"energy_source\": source_input.value,\n",
    "        \"visual_opinion\": likert_scale.value\n",
    "    }\n",
    "\n",
    "    try:\n",
    "        response = requests.post(ZAPIER_WEBHOOK_URL, json=payload)\n",
    "        return response.status_code\n",
    "    except Exception as e:\n",
    "        print(f\"❌ Error sending to Zapier: {e}\")\n",
    "        return None\n",
    "\n",
    "# ✅ 2. Validation helper\n",
    "def validate_inputs():\n",
    "    missing = []\n",
    "    if not prolific_id_input.value.strip(): missing.append(\"Prolific ID\")\n",
    "    if not plant_question.value: missing.append(\"Q1 - Plant Name\")\n",
    "    if not capacity_question.value: missing.append(\"Q2 - Capacity\")\n",
    "    if not solar_input.value: missing.append(\"Q3 - Solar Count\")\n",
    "    if not percentage_input.value: missing.append(\"Q4 - % in LA\")\n",
    "    if not difference_input.value: missing.append(\"Q5 - MW Difference\")\n",
    "    if not hydro_input.value: missing.append(\"Q6 - Hydro\")\n",
    "    if not answer_input.value: missing.append(\"Q7 - Operator\")\n",
    "    if not source_input.value: missing.append(\"Q8 - Energy Source\")\n",
    "    if not likert_scale.value: missing.append(\"Q9 - Visualization Opinion\")\n",
    "\n",
    "    if missing:\n",
    "        print(\"⚠️ Please complete the following fields before submitting:\")\n",
    "        for field in missing:\n",
    "            print(f\"• {field}\")\n",
    "        return False\n",
    "    return True\n",
    "\n",
    "# ✅ 3. Submit button logic\n",
    "submit_button = widgets.Button(description=\"📩 Submit Survey\", button_style='success')\n",
    "submission_output = widgets.Output()\n",
    "start_time = time.time()\n",
    "\n",
    "def on_survey_submit(b):\n",
    "    with submission_output:\n",
    "        clear_output()\n",
    "        print(\"📤 Sending your survey responses...\")\n",
    "\n",
    "        if not validate_inputs():\n",
    "            print(\"❌ Submission cancelled. Please complete all required fields.\")\n",
    "            return\n",
    "\n",
    "        status = send_responses_to_zapier()\n",
    "\n",
    "        if status == 200:\n",
    "            print(\"✅ Submission successful! Thank you for completing the survey.\")\n",
    "            submit_button.disabled = True\n",
    "        elif status is None:\n",
    "            print(\"❌ An error occurred while sending the survey.\")\n",
    "        else:\n",
    "            print(f\"❌ Submission failed. Status code: {status}\")\n",
    "\n",
    "        end_time = time.time()\n",
    "        print(f\"⏱️ Time taken: {round(end_time - start_time, 2)} seconds\")\n",
    "\n",
    "# ✅ 4. Attach click event and display the button\n",
    "submit_button.on_click(on_survey_submit)\n",
    "display(submit_button, submission_output)\n"
   ]
  },
  {
   "cell_type": "code",
   "execution_count": null,
   "id": "a9a06cf9",
   "metadata": {},
   "outputs": [],
   "source": []
  }
 ],
 "metadata": {
  "celltoolbar": "Tags",
  "kernelspec": {
   "display_name": "Python 3 (ipykernel)",
   "language": "python",
   "name": "python3"
  },
  "language_info": {
   "codemirror_mode": {
    "name": "ipython",
    "version": 3
   },
   "file_extension": ".py",
   "mimetype": "text/x-python",
   "name": "python",
   "nbconvert_exporter": "python",
   "pygments_lexer": "ipython3",
   "version": "3.11.4"
  }
 },
 "nbformat": 4,
 "nbformat_minor": 5
}
